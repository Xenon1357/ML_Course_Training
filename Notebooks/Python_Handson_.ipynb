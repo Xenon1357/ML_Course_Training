{
  "nbformat": 4,
  "nbformat_minor": 0,
  "metadata": {
    "colab": {
      "provenance": []
    },
    "kernelspec": {
      "name": "python3",
      "display_name": "Python 3"
    },
    "language_info": {
      "name": "python"
    }
  },
  "cells": [
    {
      "cell_type": "markdown",
      "source": [
        "#**Python Class**\n",
        "\n",
        "---"
      ],
      "metadata": {
        "id": "XY_2yHBVd-Ce"
      }
    },
    {
      "cell_type": "markdown",
      "source": [
        "## Hello World"
      ],
      "metadata": {
        "id": "fSUw6DnInITp"
      }
    },
    {
      "cell_type": "code",
      "source": [
        "print(\"Hello World!\")"
      ],
      "metadata": {
        "colab": {
          "base_uri": "https://localhost:8080/"
        },
        "id": "74BBdRTkkE7d",
        "outputId": "74a8c6d0-fe38-4d06-b546-c47449d02e8d"
      },
      "execution_count": 3,
      "outputs": [
        {
          "output_type": "stream",
          "name": "stdout",
          "text": [
            "Hello World!\n"
          ]
        }
      ]
    },
    {
      "cell_type": "markdown",
      "source": [
        "#Variables and types"
      ],
      "metadata": {
        "id": "_5LDhUIZyKJg"
      }
    },
    {
      "cell_type": "code",
      "source": [
        "# Variables\n",
        "\n",
        "int_var =10\n",
        "print(int_var)"
      ],
      "metadata": {
        "colab": {
          "base_uri": "https://localhost:8080/"
        },
        "id": "nE9AsOAznQMM",
        "outputId": "96337ffd-f1e6-4558-c220-6d5bf91fa316"
      },
      "execution_count": 4,
      "outputs": [
        {
          "output_type": "stream",
          "name": "stdout",
          "text": [
            "10\n"
          ]
        }
      ]
    },
    {
      "cell_type": "code",
      "source": [
        "float_var = 10.123\n",
        "print(float_var)"
      ],
      "metadata": {
        "colab": {
          "base_uri": "https://localhost:8080/"
        },
        "id": "QtGrpUu2nk6t",
        "outputId": "02bfa1db-8281-414f-fb5b-b0f859645422"
      },
      "execution_count": 5,
      "outputs": [
        {
          "output_type": "stream",
          "name": "stdout",
          "text": [
            "10.123\n"
          ]
        }
      ]
    },
    {
      "cell_type": "code",
      "source": [
        "string_var = \"this is a string\"\n",
        "string_var"
      ],
      "metadata": {
        "colab": {
          "base_uri": "https://localhost:8080/",
          "height": 35
        },
        "id": "S2P-AU4snpBt",
        "outputId": "22ed205d-010c-44f8-dfaa-1dd2b429fa25"
      },
      "execution_count": 6,
      "outputs": [
        {
          "output_type": "execute_result",
          "data": {
            "text/plain": [
              "'this is a string'"
            ],
            "application/vnd.google.colaboratory.intrinsic+json": {
              "type": "string"
            }
          },
          "metadata": {},
          "execution_count": 6
        }
      ]
    },
    {
      "cell_type": "code",
      "source": [
        "bool_var = True\n",
        "bool_var"
      ],
      "metadata": {
        "colab": {
          "base_uri": "https://localhost:8080/"
        },
        "id": "clvN0PUMnuBi",
        "outputId": "c9664df7-40c9-4b38-e1ff-0d6d8a211a9a"
      },
      "execution_count": 7,
      "outputs": [
        {
          "output_type": "execute_result",
          "data": {
            "text/plain": [
              "True"
            ]
          },
          "metadata": {},
          "execution_count": 7
        }
      ]
    },
    {
      "cell_type": "code",
      "source": [
        "bool_var = False\n",
        "bool_var"
      ],
      "metadata": {
        "colab": {
          "base_uri": "https://localhost:8080/"
        },
        "id": "vjpKrhJSn1v2",
        "outputId": "6656289f-65bf-4b5f-e64e-0aa249e58159"
      },
      "execution_count": 8,
      "outputs": [
        {
          "output_type": "execute_result",
          "data": {
            "text/plain": [
              "False"
            ]
          },
          "metadata": {},
          "execution_count": 8
        }
      ]
    },
    {
      "cell_type": "markdown",
      "source": [
        "#List, dictionary, tuples and set"
      ],
      "metadata": {
        "id": "Luo4sPVkyPTg"
      }
    },
    {
      "cell_type": "code",
      "source": [
        "# List \n",
        "my_list1 = ['this is string', 10, 7.5]\n",
        "my_list1"
      ],
      "metadata": {
        "colab": {
          "base_uri": "https://localhost:8080/"
        },
        "id": "L23OXd_Kn4kU",
        "outputId": "7408e099-845c-4625-e318-cef6dbe4a905"
      },
      "execution_count": 9,
      "outputs": [
        {
          "output_type": "execute_result",
          "data": {
            "text/plain": [
              "['this is string', 10, 7.5]"
            ]
          },
          "metadata": {},
          "execution_count": 9
        }
      ]
    },
    {
      "cell_type": "code",
      "source": [
        "print(my_list1[0])"
      ],
      "metadata": {
        "colab": {
          "base_uri": "https://localhost:8080/"
        },
        "id": "WncOGKjnoDSz",
        "outputId": "bebdcb28-56bb-4ab0-dec9-026fe5a6edea"
      },
      "execution_count": 11,
      "outputs": [
        {
          "output_type": "stream",
          "name": "stdout",
          "text": [
            "this is string\n"
          ]
        }
      ]
    },
    {
      "cell_type": "code",
      "source": [
        "print(my_list1[2])"
      ],
      "metadata": {
        "colab": {
          "base_uri": "https://localhost:8080/"
        },
        "id": "Hq-W4Vg4oTL2",
        "outputId": "2620bcc4-6c3c-425e-dbdb-7e2da7e2852e"
      },
      "execution_count": 12,
      "outputs": [
        {
          "output_type": "stream",
          "name": "stdout",
          "text": [
            "7.5\n"
          ]
        }
      ]
    },
    {
      "cell_type": "code",
      "source": [
        "my_list1.append(True)\n",
        "my_list1"
      ],
      "metadata": {
        "colab": {
          "base_uri": "https://localhost:8080/"
        },
        "id": "U0-95zjuoXb3",
        "outputId": "ed7f246e-a9c5-425d-e855-362cd24864fc"
      },
      "execution_count": 13,
      "outputs": [
        {
          "output_type": "execute_result",
          "data": {
            "text/plain": [
              "['this is string', 10, 7.5, True]"
            ]
          },
          "metadata": {},
          "execution_count": 13
        }
      ]
    },
    {
      "cell_type": "code",
      "source": [
        "# dictionary\n",
        "my_dictionary={\"key\":1, \"key2\":\"Lapotp\"}\n",
        "my_dictionary"
      ],
      "metadata": {
        "colab": {
          "base_uri": "https://localhost:8080/"
        },
        "id": "DccnTmPhodID",
        "outputId": "e453bcc1-cae1-4070-b5e2-1585a6c8d7c5"
      },
      "execution_count": 14,
      "outputs": [
        {
          "output_type": "execute_result",
          "data": {
            "text/plain": [
              "{'key': 1, 'key2': 'Lapotp'}"
            ]
          },
          "metadata": {},
          "execution_count": 14
        }
      ]
    },
    {
      "cell_type": "code",
      "source": [
        "my_dictionary['key']=12\n",
        "my_dictionary"
      ],
      "metadata": {
        "colab": {
          "base_uri": "https://localhost:8080/"
        },
        "id": "WKnFVsgUo__a",
        "outputId": "0b5e1274-7cc8-4525-808a-bbdaa717e928"
      },
      "execution_count": 15,
      "outputs": [
        {
          "output_type": "execute_result",
          "data": {
            "text/plain": [
              "{'key': 12, 'key2': 'Lapotp'}"
            ]
          },
          "metadata": {},
          "execution_count": 15
        }
      ]
    },
    {
      "cell_type": "markdown",
      "source": [
        "#Operators"
      ],
      "metadata": {
        "id": "TTVwyx8zyUmF"
      }
    },
    {
      "cell_type": "code",
      "source": [
        "# operators \n",
        "sm = 1+2\n",
        "sm"
      ],
      "metadata": {
        "colab": {
          "base_uri": "https://localhost:8080/"
        },
        "id": "j-tYvMnDpUnZ",
        "outputId": "a249ece8-9985-4b86-939f-45e40bb9297a"
      },
      "execution_count": 16,
      "outputs": [
        {
          "output_type": "execute_result",
          "data": {
            "text/plain": [
              "3"
            ]
          },
          "metadata": {},
          "execution_count": 16
        }
      ]
    },
    {
      "cell_type": "code",
      "source": [
        "remin = 12%2\n",
        "remin"
      ],
      "metadata": {
        "colab": {
          "base_uri": "https://localhost:8080/"
        },
        "id": "8EVspJqdph9Q",
        "outputId": "b6f6b7a4-b782-47f4-d71b-52d08b8337fe"
      },
      "execution_count": 17,
      "outputs": [
        {
          "output_type": "execute_result",
          "data": {
            "text/plain": [
              "0"
            ]
          },
          "metadata": {},
          "execution_count": 17
        }
      ]
    },
    {
      "cell_type": "code",
      "source": [
        "divid = 12/2\n",
        "divid"
      ],
      "metadata": {
        "colab": {
          "base_uri": "https://localhost:8080/"
        },
        "id": "mfMmnWaopm6o",
        "outputId": "1ee5d169-d4d5-47ad-d317-63309d8cb127"
      },
      "execution_count": 18,
      "outputs": [
        {
          "output_type": "execute_result",
          "data": {
            "text/plain": [
              "6.0"
            ]
          },
          "metadata": {},
          "execution_count": 18
        }
      ]
    },
    {
      "cell_type": "code",
      "source": [
        "div = 9/2\n",
        "div"
      ],
      "metadata": {
        "colab": {
          "base_uri": "https://localhost:8080/"
        },
        "id": "3ClWqjnzqIcR",
        "outputId": "c7a0ea91-f70b-4e06-d396-1933b5d16546"
      },
      "execution_count": 22,
      "outputs": [
        {
          "output_type": "execute_result",
          "data": {
            "text/plain": [
              "4.5"
            ]
          },
          "metadata": {},
          "execution_count": 22
        }
      ]
    },
    {
      "cell_type": "code",
      "source": [
        "divid_1 = 12//2\n",
        "divid_1"
      ],
      "metadata": {
        "colab": {
          "base_uri": "https://localhost:8080/"
        },
        "id": "7gz1w5DEprD-",
        "outputId": "51646806-968f-4b4e-ca40-ca11536a9159"
      },
      "execution_count": 19,
      "outputs": [
        {
          "output_type": "execute_result",
          "data": {
            "text/plain": [
              "6"
            ]
          },
          "metadata": {},
          "execution_count": 19
        }
      ]
    },
    {
      "cell_type": "code",
      "source": [
        "div2=15//4\n",
        "div2"
      ],
      "metadata": {
        "colab": {
          "base_uri": "https://localhost:8080/"
        },
        "id": "8UmoblhqqNNl",
        "outputId": "5a2f5469-b917-4ea9-bcf9-ab67f9b0e1a3"
      },
      "execution_count": 24,
      "outputs": [
        {
          "output_type": "execute_result",
          "data": {
            "text/plain": [
              "3"
            ]
          },
          "metadata": {},
          "execution_count": 24
        }
      ]
    },
    {
      "cell_type": "code",
      "source": [
        "mul=12*21\n",
        "mul"
      ],
      "metadata": {
        "colab": {
          "base_uri": "https://localhost:8080/"
        },
        "id": "BEEn0Y0Fpv6F",
        "outputId": "8f2cc5e7-c489-4160-ea8f-f97f61d3c398"
      },
      "execution_count": 20,
      "outputs": [
        {
          "output_type": "execute_result",
          "data": {
            "text/plain": [
              "252"
            ]
          },
          "metadata": {},
          "execution_count": 20
        }
      ]
    },
    {
      "cell_type": "code",
      "source": [
        "pow = 2**4\n",
        "pow"
      ],
      "metadata": {
        "colab": {
          "base_uri": "https://localhost:8080/"
        },
        "id": "yZ3wtzXbpz_q",
        "outputId": "049c25ae-1048-4b25-cfdf-ec997708eb71"
      },
      "execution_count": 21,
      "outputs": [
        {
          "output_type": "execute_result",
          "data": {
            "text/plain": [
              "16"
            ]
          },
          "metadata": {},
          "execution_count": 21
        }
      ]
    },
    {
      "cell_type": "code",
      "source": [
        "# sub \n",
        "sub = 6-2\n",
        "sub"
      ],
      "metadata": {
        "colab": {
          "base_uri": "https://localhost:8080/"
        },
        "id": "XDU9EGrgp-s2",
        "outputId": "c0ee6e9f-a4e6-4b37-dfb5-67d6d4719ce0"
      },
      "execution_count": 25,
      "outputs": [
        {
          "output_type": "execute_result",
          "data": {
            "text/plain": [
              "4"
            ]
          },
          "metadata": {},
          "execution_count": 25
        }
      ]
    },
    {
      "cell_type": "code",
      "source": [
        "# Assignment Operators\n",
        "assign_var = 12\n",
        "assign_var"
      ],
      "metadata": {
        "colab": {
          "base_uri": "https://localhost:8080/"
        },
        "id": "3fvVz30yquY4",
        "outputId": "690fcc88-c324-4b9e-ec25-25b56682152d"
      },
      "execution_count": 26,
      "outputs": [
        {
          "output_type": "execute_result",
          "data": {
            "text/plain": [
              "12"
            ]
          },
          "metadata": {},
          "execution_count": 26
        }
      ]
    },
    {
      "cell_type": "code",
      "source": [
        "assign_var += 5\n",
        "assign_var"
      ],
      "metadata": {
        "colab": {
          "base_uri": "https://localhost:8080/"
        },
        "id": "EeMVLgCaq417",
        "outputId": "4afd57b4-202b-44cd-e39c-513e0395323e"
      },
      "execution_count": 27,
      "outputs": [
        {
          "output_type": "execute_result",
          "data": {
            "text/plain": [
              "17"
            ]
          },
          "metadata": {},
          "execution_count": 27
        }
      ]
    },
    {
      "cell_type": "code",
      "source": [
        "assign_var -= 10\n",
        "assign_var"
      ],
      "metadata": {
        "colab": {
          "base_uri": "https://localhost:8080/"
        },
        "id": "0Flpe75LrHmh",
        "outputId": "b9cdcf51-3f9b-40c5-ecad-01a896f9aa2d"
      },
      "execution_count": 28,
      "outputs": [
        {
          "output_type": "execute_result",
          "data": {
            "text/plain": [
              "7"
            ]
          },
          "metadata": {},
          "execution_count": 28
        }
      ]
    },
    {
      "cell_type": "code",
      "source": [
        "assign_var *=3\n",
        "assign_var"
      ],
      "metadata": {
        "colab": {
          "base_uri": "https://localhost:8080/"
        },
        "id": "Y8SdnyAzrLPO",
        "outputId": "13f8691d-11de-408c-e8fe-2c909c2678b5"
      },
      "execution_count": 29,
      "outputs": [
        {
          "output_type": "execute_result",
          "data": {
            "text/plain": [
              "21"
            ]
          },
          "metadata": {},
          "execution_count": 29
        }
      ]
    },
    {
      "cell_type": "code",
      "source": [
        "# Comparison Operators \n",
        "a = 12 \n",
        "b = 5 \n",
        "print( a==b)"
      ],
      "metadata": {
        "colab": {
          "base_uri": "https://localhost:8080/"
        },
        "id": "iruht1wErVaa",
        "outputId": "ca3ace89-d384-4652-fb00-f55f3d676b7d"
      },
      "execution_count": 30,
      "outputs": [
        {
          "output_type": "stream",
          "name": "stdout",
          "text": [
            "False\n"
          ]
        }
      ]
    },
    {
      "cell_type": "code",
      "source": [
        "print(a!=b)"
      ],
      "metadata": {
        "colab": {
          "base_uri": "https://localhost:8080/"
        },
        "id": "r3KcGiOHrhFM",
        "outputId": "af7888bd-1c68-4607-b9f3-bbef1273f37d"
      },
      "execution_count": 31,
      "outputs": [
        {
          "output_type": "stream",
          "name": "stdout",
          "text": [
            "True\n"
          ]
        }
      ]
    },
    {
      "cell_type": "code",
      "source": [
        "print( a>b)"
      ],
      "metadata": {
        "colab": {
          "base_uri": "https://localhost:8080/"
        },
        "id": "_EPwM8Ohrkun",
        "outputId": "c90d504e-faef-40c1-def3-b26c19d01d53"
      },
      "execution_count": 32,
      "outputs": [
        {
          "output_type": "stream",
          "name": "stdout",
          "text": [
            "True\n"
          ]
        }
      ]
    },
    {
      "cell_type": "code",
      "source": [
        "print(a<b)"
      ],
      "metadata": {
        "colab": {
          "base_uri": "https://localhost:8080/"
        },
        "id": "1CBfAYe_rnyg",
        "outputId": "b5de6482-1960-4031-f259-c817d2023872"
      },
      "execution_count": 33,
      "outputs": [
        {
          "output_type": "stream",
          "name": "stdout",
          "text": [
            "False\n"
          ]
        }
      ]
    },
    {
      "cell_type": "code",
      "source": [
        "print(a>=b)"
      ],
      "metadata": {
        "colab": {
          "base_uri": "https://localhost:8080/"
        },
        "id": "7Ox1g5qzrpmI",
        "outputId": "135c718d-cdda-458f-b011-bbc38dd78b6d"
      },
      "execution_count": 34,
      "outputs": [
        {
          "output_type": "stream",
          "name": "stdout",
          "text": [
            "True\n"
          ]
        }
      ]
    },
    {
      "cell_type": "code",
      "source": [
        "a=5\n",
        "print(a<=b)"
      ],
      "metadata": {
        "colab": {
          "base_uri": "https://localhost:8080/"
        },
        "id": "7PQa0r0zrs6a",
        "outputId": "41870d4a-729d-458e-8234-7ad57686df62"
      },
      "execution_count": 35,
      "outputs": [
        {
          "output_type": "stream",
          "name": "stdout",
          "text": [
            "True\n"
          ]
        }
      ]
    },
    {
      "cell_type": "code",
      "source": [
        "# Logical Operators \n",
        "c = 10 \n",
        "d = 12 \n",
        "print( a>=b and c<d)"
      ],
      "metadata": {
        "colab": {
          "base_uri": "https://localhost:8080/"
        },
        "id": "LkT2NgrBryWG",
        "outputId": "efa902f3-6dab-4781-bec8-f98d70986e1f"
      },
      "execution_count": 36,
      "outputs": [
        {
          "output_type": "stream",
          "name": "stdout",
          "text": [
            "True\n"
          ]
        }
      ]
    },
    {
      "cell_type": "code",
      "source": [
        "print(a<=b and c>d)"
      ],
      "metadata": {
        "colab": {
          "base_uri": "https://localhost:8080/"
        },
        "id": "aAuW9Nu2r9SU",
        "outputId": "c1ca554d-b0e7-4689-b28c-c3cc4aec46a6"
      },
      "execution_count": 38,
      "outputs": [
        {
          "output_type": "stream",
          "name": "stdout",
          "text": [
            "False\n"
          ]
        }
      ]
    },
    {
      "cell_type": "code",
      "source": [
        "print( a<=b or c>d)"
      ],
      "metadata": {
        "colab": {
          "base_uri": "https://localhost:8080/"
        },
        "id": "y6-j2x4lsDU_",
        "outputId": "00cfdb3e-b895-464d-b2ba-0d7ccee9e2c5"
      },
      "execution_count": 39,
      "outputs": [
        {
          "output_type": "stream",
          "name": "stdout",
          "text": [
            "True\n"
          ]
        }
      ]
    },
    {
      "cell_type": "code",
      "source": [
        "not(a==b and b<c)"
      ],
      "metadata": {
        "colab": {
          "base_uri": "https://localhost:8080/"
        },
        "id": "wAbwBjWwsO14",
        "outputId": "f7f6f7cc-0b85-49f0-e02f-2a598d59cae9"
      },
      "execution_count": 41,
      "outputs": [
        {
          "output_type": "execute_result",
          "data": {
            "text/plain": [
              "False"
            ]
          },
          "metadata": {},
          "execution_count": 41
        }
      ]
    },
    {
      "cell_type": "code",
      "source": [
        "# Tuples \n",
        "my_tuple = (\"pen\", \"notebook\", \"screen\")\n",
        "my_tuple"
      ],
      "metadata": {
        "colab": {
          "base_uri": "https://localhost:8080/"
        },
        "id": "qAYWyyP_sXas",
        "outputId": "37e4596d-ef85-4b8f-8e79-4581804ca7e2"
      },
      "execution_count": 42,
      "outputs": [
        {
          "output_type": "execute_result",
          "data": {
            "text/plain": [
              "('pen', 'notebook', 'screen')"
            ]
          },
          "metadata": {},
          "execution_count": 42
        }
      ]
    },
    {
      "cell_type": "code",
      "source": [
        "my_tuple = (\"pen\", \"pen\", \"notebook\")\n",
        "my_tuple"
      ],
      "metadata": {
        "colab": {
          "base_uri": "https://localhost:8080/"
        },
        "id": "VwXRaZDVs68Q",
        "outputId": "251402b4-fb5a-44e7-c7f2-18de2bba92bf"
      },
      "execution_count": 44,
      "outputs": [
        {
          "output_type": "execute_result",
          "data": {
            "text/plain": [
              "('pen', 'pen', 'notebook')"
            ]
          },
          "metadata": {},
          "execution_count": 44
        }
      ]
    },
    {
      "cell_type": "code",
      "source": [
        "# Sets \n",
        "my_set = {\"pen\", \"notebook\", \"screen\"}\n",
        "my_set"
      ],
      "metadata": {
        "colab": {
          "base_uri": "https://localhost:8080/"
        },
        "id": "XtZud8nJtEWN",
        "outputId": "bb25dced-3b11-4046-f3b0-b87b5e997038"
      },
      "execution_count": 45,
      "outputs": [
        {
          "output_type": "execute_result",
          "data": {
            "text/plain": [
              "{'notebook', 'pen', 'screen'}"
            ]
          },
          "metadata": {},
          "execution_count": 45
        }
      ]
    },
    {
      "cell_type": "code",
      "source": [
        "print(\"laptop\" in my_set)"
      ],
      "metadata": {
        "colab": {
          "base_uri": "https://localhost:8080/"
        },
        "id": "43pEJ5E2tazw",
        "outputId": "459d5a33-7d79-4035-c9ca-f941a7483cae"
      },
      "execution_count": 47,
      "outputs": [
        {
          "output_type": "stream",
          "name": "stdout",
          "text": [
            "False\n"
          ]
        }
      ]
    },
    {
      "cell_type": "markdown",
      "source": [
        "# Conditional Structures"
      ],
      "metadata": {
        "id": "c17WJEdhyptr"
      }
    },
    {
      "cell_type": "code",
      "source": [
        "# Conditional Structures \n",
        "a = 5\n",
        "b=10 \n",
        "if(a<b):\n",
        "  print(\"{} is less than {}\".format(a,b))"
      ],
      "metadata": {
        "colab": {
          "base_uri": "https://localhost:8080/"
        },
        "id": "ZfRXgEuktmwQ",
        "outputId": "bd05bec9-a0c9-4cbd-c4d6-39354909307f"
      },
      "execution_count": 48,
      "outputs": [
        {
          "output_type": "stream",
          "name": "stdout",
          "text": [
            "5 is less than 10\n"
          ]
        }
      ]
    },
    {
      "cell_type": "code",
      "source": [
        "a = 5\n",
        "b=10 \n",
        "if(a>b):\n",
        "  print(\"{} is less than {}\".format(a,b))"
      ],
      "metadata": {
        "id": "M4NorIJOuFZF"
      },
      "execution_count": 49,
      "outputs": []
    },
    {
      "cell_type": "code",
      "source": [
        "if(a>b):\n",
        "  print(\"{} is less than {}\".format(a,b))\n",
        "else:\n",
        "  print(\"{} is greater than {}\".format(b,a))"
      ],
      "metadata": {
        "colab": {
          "base_uri": "https://localhost:8080/"
        },
        "id": "geOItIusuOL7",
        "outputId": "da5e7cf2-5eef-4040-bda1-80aa8bb7e5b3"
      },
      "execution_count": 53,
      "outputs": [
        {
          "output_type": "stream",
          "name": "stdout",
          "text": [
            "10 is greater than 5\n"
          ]
        }
      ]
    },
    {
      "cell_type": "code",
      "source": [
        "b=5\n",
        "if(a>b):\n",
        "  print(\"{} is less than {}\".format(a,b))\n",
        "elif(b == a):\n",
        "  print(\"{} is equal to {}\".format(b,a))\n",
        "else:\n",
        "  print(\"a is greater than b\")"
      ],
      "metadata": {
        "colab": {
          "base_uri": "https://localhost:8080/"
        },
        "id": "BkiCFwdNuaKD",
        "outputId": "ea9d7ed4-05d0-46c5-9bb0-5f867cd37e51"
      },
      "execution_count": 54,
      "outputs": [
        {
          "output_type": "stream",
          "name": "stdout",
          "text": [
            "5 is equal to 5\n"
          ]
        }
      ]
    },
    {
      "cell_type": "code",
      "source": [
        "e =100\n",
        "f= 500 \n",
        "print(\"f is smaller than e \") if e>f else print(\"e is smaller than f\")"
      ],
      "metadata": {
        "colab": {
          "base_uri": "https://localhost:8080/"
        },
        "id": "VEklUTbevC0z",
        "outputId": "dea0f499-1f75-4135-b409-f1d97895053e"
      },
      "execution_count": 56,
      "outputs": [
        {
          "output_type": "stream",
          "name": "stdout",
          "text": [
            "e is smaller than f\n"
          ]
        }
      ]
    },
    {
      "cell_type": "markdown",
      "source": [
        "#Loops"
      ],
      "metadata": {
        "id": "_UjQRjwXyllq"
      }
    },
    {
      "cell_type": "code",
      "source": [
        "# Loops \n",
        "# for \n",
        "# while \n",
        "\n",
        "i=10\n",
        "while i<50:\n",
        "  print(i)\n",
        "  i +=10"
      ],
      "metadata": {
        "colab": {
          "base_uri": "https://localhost:8080/"
        },
        "id": "5uddkzIlvqdH",
        "outputId": "098c7d08-c518-439e-a4df-0b3030d4e83d"
      },
      "execution_count": 57,
      "outputs": [
        {
          "output_type": "stream",
          "name": "stdout",
          "text": [
            "10\n",
            "20\n",
            "30\n",
            "40\n"
          ]
        }
      ]
    },
    {
      "cell_type": "code",
      "source": [
        "# for loop \n",
        "list_fruits = ['apple', 'mango', 'grapes', \"banana\", 'gauva']\n",
        "for f in list_fruits:\n",
        "  if(f == \"apple\"):\n",
        "    continue\n",
        "  print(f)"
      ],
      "metadata": {
        "colab": {
          "base_uri": "https://localhost:8080/"
        },
        "id": "DbAewV4Twvsq",
        "outputId": "2a2e4110-0976-4646-d68b-ee6a38c60b87"
      },
      "execution_count": 58,
      "outputs": [
        {
          "output_type": "stream",
          "name": "stdout",
          "text": [
            "apple\n",
            "mango\n",
            "grapes\n",
            "banana\n",
            "gauva\n"
          ]
        }
      ]
    },
    {
      "cell_type": "markdown",
      "source": [
        "#Functions"
      ],
      "metadata": {
        "id": "RsXU1VycygxP"
      }
    },
    {
      "cell_type": "code",
      "source": [
        "# functions\n",
        "def func1():\n",
        "  print(\"this is a function\")\n",
        "func1()"
      ],
      "metadata": {
        "colab": {
          "base_uri": "https://localhost:8080/"
        },
        "id": "u5HAyot7xJZo",
        "outputId": "a38c72f6-2153-44d8-892e-53f074effc0d"
      },
      "execution_count": 59,
      "outputs": [
        {
          "output_type": "stream",
          "name": "stdout",
          "text": [
            "this is a function\n"
          ]
        }
      ]
    }
  ]
}