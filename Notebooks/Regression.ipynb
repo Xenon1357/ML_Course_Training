{
  "nbformat": 4,
  "nbformat_minor": 0,
  "metadata": {
    "colab": {
      "provenance": []
    },
    "kernelspec": {
      "name": "python3",
      "display_name": "Python 3"
    },
    "language_info": {
      "name": "python"
    }
  },
  "cells": [
    {
      "cell_type": "code",
      "execution_count": 28,
      "metadata": {
        "id": "LH1kvgfUHRXp"
      },
      "outputs": [],
      "source": [
        "#  libraries \n",
        "import numpy as np\n",
        "import pandas as pd\n",
        "import matplotlib.pyplot as plt\n",
        "%matplotlib inline "
      ]
    },
    {
      "cell_type": "code",
      "source": [
        "df = pd.read_csv('./headbrain.csv')\n",
        "df.head()"
      ],
      "metadata": {
        "colab": {
          "base_uri": "https://localhost:8080/",
          "height": 206
        },
        "id": "Kwc8jTR2HyAR",
        "outputId": "4440486a-17fa-4eea-cc8f-a09d9ca78285"
      },
      "execution_count": 29,
      "outputs": [
        {
          "output_type": "execute_result",
          "data": {
            "text/plain": [
              "   Gender  Age Range  Head Size(cm^3)  Brain Weight(grams)\n",
              "0       1          1             4512                 1530\n",
              "1       1          1             3738                 1297\n",
              "2       1          1             4261                 1335\n",
              "3       1          1             3777                 1282\n",
              "4       1          1             4177                 1590"
            ],
            "text/html": [
              "\n",
              "  <div id=\"df-e1cd7ffb-bc8b-44fe-9dbd-36dbabaae030\">\n",
              "    <div class=\"colab-df-container\">\n",
              "      <div>\n",
              "<style scoped>\n",
              "    .dataframe tbody tr th:only-of-type {\n",
              "        vertical-align: middle;\n",
              "    }\n",
              "\n",
              "    .dataframe tbody tr th {\n",
              "        vertical-align: top;\n",
              "    }\n",
              "\n",
              "    .dataframe thead th {\n",
              "        text-align: right;\n",
              "    }\n",
              "</style>\n",
              "<table border=\"1\" class=\"dataframe\">\n",
              "  <thead>\n",
              "    <tr style=\"text-align: right;\">\n",
              "      <th></th>\n",
              "      <th>Gender</th>\n",
              "      <th>Age Range</th>\n",
              "      <th>Head Size(cm^3)</th>\n",
              "      <th>Brain Weight(grams)</th>\n",
              "    </tr>\n",
              "  </thead>\n",
              "  <tbody>\n",
              "    <tr>\n",
              "      <th>0</th>\n",
              "      <td>1</td>\n",
              "      <td>1</td>\n",
              "      <td>4512</td>\n",
              "      <td>1530</td>\n",
              "    </tr>\n",
              "    <tr>\n",
              "      <th>1</th>\n",
              "      <td>1</td>\n",
              "      <td>1</td>\n",
              "      <td>3738</td>\n",
              "      <td>1297</td>\n",
              "    </tr>\n",
              "    <tr>\n",
              "      <th>2</th>\n",
              "      <td>1</td>\n",
              "      <td>1</td>\n",
              "      <td>4261</td>\n",
              "      <td>1335</td>\n",
              "    </tr>\n",
              "    <tr>\n",
              "      <th>3</th>\n",
              "      <td>1</td>\n",
              "      <td>1</td>\n",
              "      <td>3777</td>\n",
              "      <td>1282</td>\n",
              "    </tr>\n",
              "    <tr>\n",
              "      <th>4</th>\n",
              "      <td>1</td>\n",
              "      <td>1</td>\n",
              "      <td>4177</td>\n",
              "      <td>1590</td>\n",
              "    </tr>\n",
              "  </tbody>\n",
              "</table>\n",
              "</div>\n",
              "      <button class=\"colab-df-convert\" onclick=\"convertToInteractive('df-e1cd7ffb-bc8b-44fe-9dbd-36dbabaae030')\"\n",
              "              title=\"Convert this dataframe to an interactive table.\"\n",
              "              style=\"display:none;\">\n",
              "        \n",
              "  <svg xmlns=\"http://www.w3.org/2000/svg\" height=\"24px\"viewBox=\"0 0 24 24\"\n",
              "       width=\"24px\">\n",
              "    <path d=\"M0 0h24v24H0V0z\" fill=\"none\"/>\n",
              "    <path d=\"M18.56 5.44l.94 2.06.94-2.06 2.06-.94-2.06-.94-.94-2.06-.94 2.06-2.06.94zm-11 1L8.5 8.5l.94-2.06 2.06-.94-2.06-.94L8.5 2.5l-.94 2.06-2.06.94zm10 10l.94 2.06.94-2.06 2.06-.94-2.06-.94-.94-2.06-.94 2.06-2.06.94z\"/><path d=\"M17.41 7.96l-1.37-1.37c-.4-.4-.92-.59-1.43-.59-.52 0-1.04.2-1.43.59L10.3 9.45l-7.72 7.72c-.78.78-.78 2.05 0 2.83L4 21.41c.39.39.9.59 1.41.59.51 0 1.02-.2 1.41-.59l7.78-7.78 2.81-2.81c.8-.78.8-2.07 0-2.86zM5.41 20L4 18.59l7.72-7.72 1.47 1.35L5.41 20z\"/>\n",
              "  </svg>\n",
              "      </button>\n",
              "      \n",
              "  <style>\n",
              "    .colab-df-container {\n",
              "      display:flex;\n",
              "      flex-wrap:wrap;\n",
              "      gap: 12px;\n",
              "    }\n",
              "\n",
              "    .colab-df-convert {\n",
              "      background-color: #E8F0FE;\n",
              "      border: none;\n",
              "      border-radius: 50%;\n",
              "      cursor: pointer;\n",
              "      display: none;\n",
              "      fill: #1967D2;\n",
              "      height: 32px;\n",
              "      padding: 0 0 0 0;\n",
              "      width: 32px;\n",
              "    }\n",
              "\n",
              "    .colab-df-convert:hover {\n",
              "      background-color: #E2EBFA;\n",
              "      box-shadow: 0px 1px 2px rgba(60, 64, 67, 0.3), 0px 1px 3px 1px rgba(60, 64, 67, 0.15);\n",
              "      fill: #174EA6;\n",
              "    }\n",
              "\n",
              "    [theme=dark] .colab-df-convert {\n",
              "      background-color: #3B4455;\n",
              "      fill: #D2E3FC;\n",
              "    }\n",
              "\n",
              "    [theme=dark] .colab-df-convert:hover {\n",
              "      background-color: #434B5C;\n",
              "      box-shadow: 0px 1px 3px 1px rgba(0, 0, 0, 0.15);\n",
              "      filter: drop-shadow(0px 1px 2px rgba(0, 0, 0, 0.3));\n",
              "      fill: #FFFFFF;\n",
              "    }\n",
              "  </style>\n",
              "\n",
              "      <script>\n",
              "        const buttonEl =\n",
              "          document.querySelector('#df-e1cd7ffb-bc8b-44fe-9dbd-36dbabaae030 button.colab-df-convert');\n",
              "        buttonEl.style.display =\n",
              "          google.colab.kernel.accessAllowed ? 'block' : 'none';\n",
              "\n",
              "        async function convertToInteractive(key) {\n",
              "          const element = document.querySelector('#df-e1cd7ffb-bc8b-44fe-9dbd-36dbabaae030');\n",
              "          const dataTable =\n",
              "            await google.colab.kernel.invokeFunction('convertToInteractive',\n",
              "                                                     [key], {});\n",
              "          if (!dataTable) return;\n",
              "\n",
              "          const docLinkHtml = 'Like what you see? Visit the ' +\n",
              "            '<a target=\"_blank\" href=https://colab.research.google.com/notebooks/data_table.ipynb>data table notebook</a>'\n",
              "            + ' to learn more about interactive tables.';\n",
              "          element.innerHTML = '';\n",
              "          dataTable['output_type'] = 'display_data';\n",
              "          await google.colab.output.renderOutput(dataTable, element);\n",
              "          const docLink = document.createElement('div');\n",
              "          docLink.innerHTML = docLinkHtml;\n",
              "          element.appendChild(docLink);\n",
              "        }\n",
              "      </script>\n",
              "    </div>\n",
              "  </div>\n",
              "  "
            ]
          },
          "metadata": {},
          "execution_count": 29
        }
      ]
    },
    {
      "cell_type": "code",
      "source": [
        "df.info()"
      ],
      "metadata": {
        "colab": {
          "base_uri": "https://localhost:8080/"
        },
        "id": "MSLpEPRFH52C",
        "outputId": "124d096d-bae5-4e6b-e672-539be4f2df37"
      },
      "execution_count": 30,
      "outputs": [
        {
          "output_type": "stream",
          "name": "stdout",
          "text": [
            "<class 'pandas.core.frame.DataFrame'>\n",
            "RangeIndex: 237 entries, 0 to 236\n",
            "Data columns (total 4 columns):\n",
            " #   Column               Non-Null Count  Dtype\n",
            "---  ------               --------------  -----\n",
            " 0   Gender               237 non-null    int64\n",
            " 1   Age Range            237 non-null    int64\n",
            " 2   Head Size(cm^3)      237 non-null    int64\n",
            " 3   Brain Weight(grams)  237 non-null    int64\n",
            "dtypes: int64(4)\n",
            "memory usage: 7.5 KB\n"
          ]
        }
      ]
    },
    {
      "cell_type": "code",
      "source": [
        "# missing values \n",
        "df.isnull().sum()"
      ],
      "metadata": {
        "colab": {
          "base_uri": "https://localhost:8080/"
        },
        "id": "xczqs9t8ILaO",
        "outputId": "c85b6ecd-8a49-4593-e9d8-9f6df49a49ba"
      },
      "execution_count": 31,
      "outputs": [
        {
          "output_type": "execute_result",
          "data": {
            "text/plain": [
              "Gender                 0\n",
              "Age Range              0\n",
              "Head Size(cm^3)        0\n",
              "Brain Weight(grams)    0\n",
              "dtype: int64"
            ]
          },
          "metadata": {},
          "execution_count": 31
        }
      ]
    },
    {
      "cell_type": "code",
      "source": [
        "df.shape"
      ],
      "metadata": {
        "colab": {
          "base_uri": "https://localhost:8080/"
        },
        "id": "USXhdgXOIUXY",
        "outputId": "8bf92280-8486-4fd9-90f2-aa28d44c13df"
      },
      "execution_count": 32,
      "outputs": [
        {
          "output_type": "execute_result",
          "data": {
            "text/plain": [
              "(237, 4)"
            ]
          },
          "metadata": {},
          "execution_count": 32
        }
      ]
    },
    {
      "cell_type": "code",
      "source": [
        "# Feature Class split \n",
        "X = df['Head Size(cm^3)'].values\n",
        "y = df['Brain Weight(grams)'].values"
      ],
      "metadata": {
        "id": "2fnQ-9IcIecF"
      },
      "execution_count": 33,
      "outputs": []
    },
    {
      "cell_type": "code",
      "source": [
        "X"
      ],
      "metadata": {
        "colab": {
          "base_uri": "https://localhost:8080/"
        },
        "id": "zRaCASsJJAF0",
        "outputId": "84c3ce21-17fe-4b5e-ed84-68dedbd38dbf"
      },
      "execution_count": 34,
      "outputs": [
        {
          "output_type": "execute_result",
          "data": {
            "text/plain": [
              "array([4512, 3738, 4261, 3777, 4177, 3585, 3785, 3559, 3613, 3982, 3443,\n",
              "       3993, 3640, 4208, 3832, 3876, 3497, 3466, 3095, 4424, 3878, 4046,\n",
              "       3804, 3710, 4747, 4423, 4036, 4022, 3454, 4175, 3787, 3796, 4103,\n",
              "       4161, 4158, 3814, 3527, 3748, 3334, 3492, 3962, 3505, 4315, 3804,\n",
              "       3863, 4034, 4308, 3165, 3641, 3644, 3891, 3793, 4270, 4063, 4012,\n",
              "       3458, 3890, 4166, 3935, 3669, 3866, 3393, 4442, 4253, 3727, 3329,\n",
              "       3415, 3372, 4430, 4381, 4008, 3858, 4121, 4057, 3824, 3394, 3558,\n",
              "       3362, 3930, 3835, 3830, 3856, 3249, 3577, 3933, 3850, 3309, 3406,\n",
              "       3506, 3907, 4160, 3318, 3662, 3899, 3700, 3779, 3473, 3490, 3654,\n",
              "       3478, 3495, 3834, 3876, 3661, 3618, 3648, 4032, 3399, 3916, 4430,\n",
              "       3695, 3524, 3571, 3594, 3383, 3499, 3589, 3900, 4114, 3937, 3399,\n",
              "       4200, 4488, 3614, 4051, 3782, 3391, 3124, 4053, 3582, 3666, 3532,\n",
              "       4046, 3667, 2857, 3436, 3791, 3302, 3104, 3171, 3572, 3530, 3175,\n",
              "       3438, 3903, 3899, 3401, 3267, 3451, 3090, 3413, 3323, 3680, 3439,\n",
              "       3853, 3156, 3279, 3707, 4006, 3269, 3071, 3779, 3548, 3292, 3497,\n",
              "       3082, 3248, 3358, 3803, 3566, 3145, 3503, 3571, 3724, 3615, 3203,\n",
              "       3609, 3561, 3979, 3533, 3689, 3158, 4005, 3181, 3479, 3642, 3632,\n",
              "       3069, 3394, 3703, 3165, 3354, 3000, 3687, 3556, 2773, 3058, 3344,\n",
              "       3493, 3297, 3360, 3228, 3277, 3851, 3067, 3692, 3402, 3995, 3318,\n",
              "       2720, 2937, 3580, 2939, 2989, 3586, 3156, 3246, 3170, 3268, 3389,\n",
              "       3381, 2864, 3740, 3479, 3647, 3716, 3284, 4204, 3735, 3218, 3685,\n",
              "       3704, 3214, 3394, 3233, 3352, 3391])"
            ]
          },
          "metadata": {},
          "execution_count": 34
        }
      ]
    },
    {
      "cell_type": "code",
      "source": [
        "y"
      ],
      "metadata": {
        "colab": {
          "base_uri": "https://localhost:8080/"
        },
        "id": "Mm8l-5S0JA-_",
        "outputId": "3a649dc0-19b8-422f-aa09-c117c9163e76"
      },
      "execution_count": 35,
      "outputs": [
        {
          "output_type": "execute_result",
          "data": {
            "text/plain": [
              "array([1530, 1297, 1335, 1282, 1590, 1300, 1400, 1255, 1355, 1375, 1340,\n",
              "       1380, 1355, 1522, 1208, 1405, 1358, 1292, 1340, 1400, 1357, 1287,\n",
              "       1275, 1270, 1635, 1505, 1490, 1485, 1310, 1420, 1318, 1432, 1364,\n",
              "       1405, 1432, 1207, 1375, 1350, 1236, 1250, 1350, 1320, 1525, 1570,\n",
              "       1340, 1422, 1506, 1215, 1311, 1300, 1224, 1350, 1335, 1390, 1400,\n",
              "       1225, 1310, 1560, 1330, 1222, 1415, 1175, 1330, 1485, 1470, 1135,\n",
              "       1310, 1154, 1510, 1415, 1468, 1390, 1380, 1432, 1240, 1195, 1225,\n",
              "       1188, 1252, 1315, 1245, 1430, 1279, 1245, 1309, 1412, 1120, 1220,\n",
              "       1280, 1440, 1370, 1192, 1230, 1346, 1290, 1165, 1240, 1132, 1242,\n",
              "       1270, 1218, 1430, 1588, 1320, 1290, 1260, 1425, 1226, 1360, 1620,\n",
              "       1310, 1250, 1295, 1290, 1290, 1275, 1250, 1270, 1362, 1300, 1173,\n",
              "       1256, 1440, 1180, 1306, 1350, 1125, 1165, 1312, 1300, 1270, 1335,\n",
              "       1450, 1310, 1027, 1235, 1260, 1165, 1080, 1127, 1270, 1252, 1200,\n",
              "       1290, 1334, 1380, 1140, 1243, 1340, 1168, 1322, 1249, 1321, 1192,\n",
              "       1373, 1170, 1265, 1235, 1302, 1241, 1078, 1520, 1460, 1075, 1280,\n",
              "       1180, 1250, 1190, 1374, 1306, 1202, 1240, 1316, 1280, 1350, 1180,\n",
              "       1210, 1127, 1324, 1210, 1290, 1100, 1280, 1175, 1160, 1205, 1163,\n",
              "       1022, 1243, 1350, 1237, 1204, 1090, 1355, 1250, 1076, 1120, 1220,\n",
              "       1240, 1220, 1095, 1235, 1105, 1405, 1150, 1305, 1220, 1296, 1175,\n",
              "        955, 1070, 1320, 1060, 1130, 1250, 1225, 1180, 1178, 1142, 1130,\n",
              "       1185, 1012, 1280, 1103, 1408, 1300, 1246, 1380, 1350, 1060, 1350,\n",
              "       1220, 1110, 1215, 1104, 1170, 1120])"
            ]
          },
          "metadata": {},
          "execution_count": 35
        }
      ]
    },
    {
      "cell_type": "code",
      "source": [
        "print(X.shape)\n",
        "print(y.shape)"
      ],
      "metadata": {
        "colab": {
          "base_uri": "https://localhost:8080/"
        },
        "id": "7v4qhJ_qJBZR",
        "outputId": "fb141c7e-a55c-4a6f-eccb-f95097fd0cc6"
      },
      "execution_count": 36,
      "outputs": [
        {
          "output_type": "stream",
          "name": "stdout",
          "text": [
            "(237,)\n",
            "(237,)\n"
          ]
        }
      ]
    },
    {
      "cell_type": "code",
      "source": [
        "# Coding Regression\n",
        "meanX = np.mean(X)\n",
        "meany = np.mean(y)\n",
        "n = len(X)\n",
        "\n",
        "num = 0\n",
        "denum = 0\n",
        "\n",
        "for i in range(n):\n",
        "  num += (X[i]-meanX)* (y[i]-meany)\n",
        "  denum += (X[i]-meanX)**2\n",
        "m = num/denum\n",
        "\n",
        "c = meany - (m*meanX)\n",
        "print(\"the values of m is {}\".format(m))\n",
        "print(\"the value of intercept is {}\".format(c))"
      ],
      "metadata": {
        "colab": {
          "base_uri": "https://localhost:8080/"
        },
        "id": "J1940pWTJFPN",
        "outputId": "d9e056ae-54ea-419e-95b3-37a8cd2e79d4"
      },
      "execution_count": 37,
      "outputs": [
        {
          "output_type": "stream",
          "name": "stdout",
          "text": [
            "the values of m is 0.26342933948939945\n",
            "the value of intercept is 325.57342104944223\n"
          ]
        }
      ]
    },
    {
      "cell_type": "code",
      "source": [
        "plt.scatter(X,y)"
      ],
      "metadata": {
        "colab": {
          "base_uri": "https://localhost:8080/",
          "height": 282
        },
        "id": "tGzH5_87JVwV",
        "outputId": "007f8c78-e605-4248-bb08-29626d451f86"
      },
      "execution_count": 38,
      "outputs": [
        {
          "output_type": "execute_result",
          "data": {
            "text/plain": [
              "<matplotlib.collections.PathCollection at 0x7f276dbeb790>"
            ]
          },
          "metadata": {},
          "execution_count": 38
        },
        {
          "output_type": "display_data",
          "data": {
            "text/plain": [
              "<Figure size 432x288 with 1 Axes>"
            ],
            "image/png": "[encoded data removed]"
          },
          "metadata": {
            "needs_background": "light"
          }
        }
      ]
    },
    {
      "cell_type": "code",
      "source": [
        "min_x = np.min(X)-100\n",
        "max_x = np.max(X)+100"
      ],
      "metadata": {
        "id": "huUnP5trJbQu"
      },
      "execution_count": 39,
      "outputs": []
    },
    {
      "cell_type": "code",
      "source": [
        "x = np.linspace(min_x,max_x, 1000)"
      ],
      "metadata": {
        "id": "LN7ZE7cSJz6H"
      },
      "execution_count": 40,
      "outputs": []
    },
    {
      "cell_type": "code",
      "source": [
        "print(x)"
      ],
      "metadata": {
        "colab": {
          "base_uri": "https://localhost:8080/"
        },
        "id": "CnyP-uccKyoq",
        "outputId": "c7d88bcb-97a8-48ff-fea8-0dd4c8f86bdc"
      },
      "execution_count": 44,
      "outputs": [
        {
          "output_type": "stream",
          "name": "stdout",
          "text": [
            "[2620.         2622.22922923 2624.45845846 2626.68768769 2628.91691692\n",
            " 2631.14614615 2633.37537538 2635.6046046  2637.83383383 2640.06306306\n",
            " 2642.29229229 2644.52152152 2646.75075075 2648.97997998 2651.20920921\n",
            " 2653.43843844 2655.66766767 2657.8968969  2660.12612613 2662.35535536\n",
            " 2664.58458458 2666.81381381 2669.04304304 2671.27227227 2673.5015015\n",
            " 2675.73073073 2677.95995996 2680.18918919 2682.41841842 2684.64764765\n",
            " 2686.87687688 2689.10610611 2691.33533534 2693.56456456 2695.79379379\n",
            " 2698.02302302 2700.25225225 2702.48148148 2704.71071071 2706.93993994\n",
            " 2709.16916917 2711.3983984  2713.62762763 2715.85685686 2718.08608609\n",
            " 2720.31531532 2722.54454454 2724.77377377 2727.003003   2729.23223223\n",
            " 2731.46146146 2733.69069069 2735.91991992 2738.14914915 2740.37837838\n",
            " 2742.60760761 2744.83683684 2747.06606607 2749.2952953  2751.52452452\n",
            " 2753.75375375 2755.98298298 2758.21221221 2760.44144144 2762.67067067\n",
            " 2764.8998999  2767.12912913 2769.35835836 2771.58758759 2773.81681682\n",
            " 2776.04604605 2778.27527528 2780.5045045  2782.73373373 2784.96296296\n",
            " 2787.19219219 2789.42142142 2791.65065065 2793.87987988 2796.10910911\n",
            " 2798.33833834 2800.56756757 2802.7967968  2805.02602603 2807.25525526\n",
            " 2809.48448448 2811.71371371 2813.94294294 2816.17217217 2818.4014014\n",
            " 2820.63063063 2822.85985986 2825.08908909 2827.31831832 2829.54754755\n",
            " 2831.77677678 2834.00600601 2836.23523524 2838.46446446 2840.69369369\n",
            " 2842.92292292 2845.15215215 2847.38138138 2849.61061061 2851.83983984\n",
            " 2854.06906907 2856.2982983  2858.52752753 2860.75675676 2862.98598599\n",
            " 2865.21521522 2867.44444444 2869.67367367 2871.9029029  2874.13213213\n",
            " 2876.36136136 2878.59059059 2880.81981982 2883.04904905 2885.27827828\n",
            " 2887.50750751 2889.73673674 2891.96596597 2894.1951952  2896.42442442\n",
            " 2898.65365365 2900.88288288 2903.11211211 2905.34134134 2907.57057057\n",
            " 2909.7997998  2912.02902903 2914.25825826 2916.48748749 2918.71671672\n",
            " 2920.94594595 2923.17517518 2925.4044044  2927.63363363 2929.86286286\n",
            " 2932.09209209 2934.32132132 2936.55055055 2938.77977978 2941.00900901\n",
            " 2943.23823824 2945.46746747 2947.6966967  2949.92592593 2952.15515516\n",
            " 2954.38438438 2956.61361361 2958.84284284 2961.07207207 2963.3013013\n",
            " 2965.53053053 2967.75975976 2969.98898899 2972.21821822 2974.44744745\n",
            " 2976.67667668 2978.90590591 2981.13513514 2983.36436436 2985.59359359\n",
            " 2987.82282282 2990.05205205 2992.28128128 2994.51051051 2996.73973974\n",
            " 2998.96896897 3001.1981982  3003.42742743 3005.65665666 3007.88588589\n",
            " 3010.11511512 3012.34434434 3014.57357357 3016.8028028  3019.03203203\n",
            " 3021.26126126 3023.49049049 3025.71971972 3027.94894895 3030.17817818\n",
            " 3032.40740741 3034.63663664 3036.86586587 3039.0950951  3041.32432432\n",
            " 3043.55355355 3045.78278278 3048.01201201 3050.24124124 3052.47047047\n",
            " 3054.6996997  3056.92892893 3059.15815816 3061.38738739 3063.61661662\n",
            " 3065.84584585 3068.07507508 3070.3043043  3072.53353353 3074.76276276\n",
            " 3076.99199199 3079.22122122 3081.45045045 3083.67967968 3085.90890891\n",
            " 3088.13813814 3090.36736737 3092.5965966  3094.82582583 3097.05505506\n",
            " 3099.28428428 3101.51351351 3103.74274274 3105.97197197 3108.2012012\n",
            " 3110.43043043 3112.65965966 3114.88888889 3117.11811812 3119.34734735\n",
            " 3121.57657658 3123.80580581 3126.03503504 3128.26426426 3130.49349349\n",
            " 3132.72272272 3134.95195195 3137.18118118 3139.41041041 3141.63963964\n",
            " 3143.86886887 3146.0980981  3148.32732733 3150.55655656 3152.78578579\n",
            " 3155.01501502 3157.24424424 3159.47347347 3161.7027027  3163.93193193\n",
            " 3166.16116116 3168.39039039 3170.61961962 3172.84884885 3175.07807808\n",
            " 3177.30730731 3179.53653654 3181.76576577 3183.99499499 3186.22422422\n",
            " 3188.45345345 3190.68268268 3192.91191191 3195.14114114 3197.37037037\n",
            " 3199.5995996  3201.82882883 3204.05805806 3206.28728729 3208.51651652\n",
            " 3210.74574575 3212.97497497 3215.2042042  3217.43343343 3219.66266266\n",
            " 3221.89189189 3224.12112112 3226.35035035 3228.57957958 3230.80880881\n",
            " 3233.03803804 3235.26726727 3237.4964965  3239.72572573 3241.95495495\n",
            " 3244.18418418 3246.41341341 3248.64264264 3250.87187187 3253.1011011\n",
            " 3255.33033033 3257.55955956 3259.78878879 3262.01801802 3264.24724725\n",
            " 3266.47647648 3268.70570571 3270.93493493 3273.16416416 3275.39339339\n",
            " 3277.62262262 3279.85185185 3282.08108108 3284.31031031 3286.53953954\n",
            " 3288.76876877 3290.997998   3293.22722723 3295.45645646 3297.68568569\n",
            " 3299.91491491 3302.14414414 3304.37337337 3306.6026026  3308.83183183\n",
            " 3311.06106106 3313.29029029 3315.51951952 3317.74874875 3319.97797798\n",
            " 3322.20720721 3324.43643644 3326.66566567 3328.89489489 3331.12412412\n",
            " 3333.35335335 3335.58258258 3337.81181181 3340.04104104 3342.27027027\n",
            " 3344.4994995  3346.72872873 3348.95795796 3351.18718719 3353.41641642\n",
            " 3355.64564565 3357.87487487 3360.1041041  3362.33333333 3364.56256256\n",
            " 3366.79179179 3369.02102102 3371.25025025 3373.47947948 3375.70870871\n",
            " 3377.93793794 3380.16716717 3382.3963964  3384.62562563 3386.85485485\n",
            " 3389.08408408 3391.31331331 3393.54254254 3395.77177177 3398.001001\n",
            " 3400.23023023 3402.45945946 3404.68868869 3406.91791792 3409.14714715\n",
            " 3411.37637638 3413.60560561 3415.83483483 3418.06406406 3420.29329329\n",
            " 3422.52252252 3424.75175175 3426.98098098 3429.21021021 3431.43943944\n",
            " 3433.66866867 3435.8978979  3438.12712713 3440.35635636 3442.58558559\n",
            " 3444.81481481 3447.04404404 3449.27327327 3451.5025025  3453.73173173\n",
            " 3455.96096096 3458.19019019 3460.41941942 3462.64864865 3464.87787788\n",
            " 3467.10710711 3469.33633634 3471.56556557 3473.79479479 3476.02402402\n",
            " 3478.25325325 3480.48248248 3482.71171171 3484.94094094 3487.17017017\n",
            " 3489.3993994  3491.62862863 3493.85785786 3496.08708709 3498.31631632\n",
            " 3500.54554555 3502.77477477 3505.004004   3507.23323323 3509.46246246\n",
            " 3511.69169169 3513.92092092 3516.15015015 3518.37937938 3520.60860861\n",
            " 3522.83783784 3525.06706707 3527.2962963  3529.52552553 3531.75475475\n",
            " 3533.98398398 3536.21321321 3538.44244244 3540.67167167 3542.9009009\n",
            " 3545.13013013 3547.35935936 3549.58858859 3551.81781782 3554.04704705\n",
            " 3556.27627628 3558.50550551 3560.73473473 3562.96396396 3565.19319319\n",
            " 3567.42242242 3569.65165165 3571.88088088 3574.11011011 3576.33933934\n",
            " 3578.56856857 3580.7977978  3583.02702703 3585.25625626 3587.48548549\n",
            " 3589.71471471 3591.94394394 3594.17317317 3596.4024024  3598.63163163\n",
            " 3600.86086086 3603.09009009 3605.31931932 3607.54854855 3609.77777778\n",
            " 3612.00700701 3614.23623624 3616.46546547 3618.69469469 3620.92392392\n",
            " 3623.15315315 3625.38238238 3627.61161161 3629.84084084 3632.07007007\n",
            " 3634.2992993  3636.52852853 3638.75775776 3640.98698699 3643.21621622\n",
            " 3645.44544545 3647.67467467 3649.9039039  3652.13313313 3654.36236236\n",
            " 3656.59159159 3658.82082082 3661.05005005 3663.27927928 3665.50850851\n",
            " 3667.73773774 3669.96696697 3672.1961962  3674.42542543 3676.65465465\n",
            " 3678.88388388 3681.11311311 3683.34234234 3685.57157157 3687.8008008\n",
            " 3690.03003003 3692.25925926 3694.48848849 3696.71771772 3698.94694695\n",
            " 3701.17617618 3703.40540541 3705.63463463 3707.86386386 3710.09309309\n",
            " 3712.32232232 3714.55155155 3716.78078078 3719.01001001 3721.23923924\n",
            " 3723.46846847 3725.6976977  3727.92692693 3730.15615616 3732.38538539\n",
            " 3734.61461461 3736.84384384 3739.07307307 3741.3023023  3743.53153153\n",
            " 3745.76076076 3747.98998999 3750.21921922 3752.44844845 3754.67767768\n",
            " 3756.90690691 3759.13613614 3761.36536537 3763.59459459 3765.82382382\n",
            " 3768.05305305 3770.28228228 3772.51151151 3774.74074074 3776.96996997\n",
            " 3779.1991992  3781.42842843 3783.65765766 3785.88688689 3788.11611612\n",
            " 3790.34534535 3792.57457457 3794.8038038  3797.03303303 3799.26226226\n",
            " 3801.49149149 3803.72072072 3805.94994995 3808.17917918 3810.40840841\n",
            " 3812.63763764 3814.86686687 3817.0960961  3819.32532533 3821.55455455\n",
            " 3823.78378378 3826.01301301 3828.24224224 3830.47147147 3832.7007007\n",
            " 3834.92992993 3837.15915916 3839.38838839 3841.61761762 3843.84684685\n",
            " 3846.07607608 3848.30530531 3850.53453453 3852.76376376 3854.99299299\n",
            " 3857.22222222 3859.45145145 3861.68068068 3863.90990991 3866.13913914\n",
            " 3868.36836837 3870.5975976  3872.82682683 3875.05605606 3877.28528529\n",
            " 3879.51451451 3881.74374374 3883.97297297 3886.2022022  3888.43143143\n",
            " 3890.66066066 3892.88988989 3895.11911912 3897.34834835 3899.57757758\n",
            " 3901.80680681 3904.03603604 3906.26526527 3908.49449449 3910.72372372\n",
            " 3912.95295295 3915.18218218 3917.41141141 3919.64064064 3921.86986987\n",
            " 3924.0990991  3926.32832833 3928.55755756 3930.78678679 3933.01601602\n",
            " 3935.24524525 3937.47447447 3939.7037037  3941.93293293 3944.16216216\n",
            " 3946.39139139 3948.62062062 3950.84984985 3953.07907908 3955.30830831\n",
            " 3957.53753754 3959.76676677 3961.995996   3964.22522523 3966.45445445\n",
            " 3968.68368368 3970.91291291 3973.14214214 3975.37137137 3977.6006006\n",
            " 3979.82982983 3982.05905906 3984.28828829 3986.51751752 3988.74674675\n",
            " 3990.97597598 3993.20520521 3995.43443443 3997.66366366 3999.89289289\n",
            " 4002.12212212 4004.35135135 4006.58058058 4008.80980981 4011.03903904\n",
            " 4013.26826827 4015.4974975  4017.72672673 4019.95595596 4022.18518519\n",
            " 4024.41441441 4026.64364364 4028.87287287 4031.1021021  4033.33133133\n",
            " 4035.56056056 4037.78978979 4040.01901902 4042.24824825 4044.47747748\n",
            " 4046.70670671 4048.93593594 4051.16516517 4053.39439439 4055.62362362\n",
            " 4057.85285285 4060.08208208 4062.31131131 4064.54054054 4066.76976977\n",
            " 4068.998999   4071.22822823 4073.45745746 4075.68668669 4077.91591592\n",
            " 4080.14514515 4082.37437437 4084.6036036  4086.83283283 4089.06206206\n",
            " 4091.29129129 4093.52052052 4095.74974975 4097.97897898 4100.20820821\n",
            " 4102.43743744 4104.66666667 4106.8958959  4109.12512513 4111.35435435\n",
            " 4113.58358358 4115.81281281 4118.04204204 4120.27127127 4122.5005005\n",
            " 4124.72972973 4126.95895896 4129.18818819 4131.41741742 4133.64664665\n",
            " 4135.87587588 4138.10510511 4140.33433433 4142.56356356 4144.79279279\n",
            " 4147.02202202 4149.25125125 4151.48048048 4153.70970971 4155.93893894\n",
            " 4158.16816817 4160.3973974  4162.62662663 4164.85585586 4167.08508509\n",
            " 4169.31431431 4171.54354354 4173.77277277 4176.002002   4178.23123123\n",
            " 4180.46046046 4182.68968969 4184.91891892 4187.14814815 4189.37737738\n",
            " 4191.60660661 4193.83583584 4196.06506507 4198.29429429 4200.52352352\n",
            " 4202.75275275 4204.98198198 4207.21121121 4209.44044044 4211.66966967\n",
            " 4213.8988989  4216.12812813 4218.35735736 4220.58658659 4222.81581582\n",
            " 4225.04504505 4227.27427427 4229.5035035  4231.73273273 4233.96196196\n",
            " 4236.19119119 4238.42042042 4240.64964965 4242.87887888 4245.10810811\n",
            " 4247.33733734 4249.56656657 4251.7957958  4254.02502503 4256.25425425\n",
            " 4258.48348348 4260.71271271 4262.94194194 4265.17117117 4267.4004004\n",
            " 4269.62962963 4271.85885886 4274.08808809 4276.31731732 4278.54654655\n",
            " 4280.77577578 4283.00500501 4285.23423423 4287.46346346 4289.69269269\n",
            " 4291.92192192 4294.15115115 4296.38038038 4298.60960961 4300.83883884\n",
            " 4303.06806807 4305.2972973  4307.52652653 4309.75575576 4311.98498498\n",
            " 4314.21421421 4316.44344344 4318.67267267 4320.9019019  4323.13113113\n",
            " 4325.36036036 4327.58958959 4329.81881882 4332.04804805 4334.27727728\n",
            " 4336.50650651 4338.73573574 4340.96496496 4343.19419419 4345.42342342\n",
            " 4347.65265265 4349.88188188 4352.11111111 4354.34034034 4356.56956957\n",
            " 4358.7987988  4361.02802803 4363.25725726 4365.48648649 4367.71571572\n",
            " 4369.94494494 4372.17417417 4374.4034034  4376.63263263 4378.86186186\n",
            " 4381.09109109 4383.32032032 4385.54954955 4387.77877878 4390.00800801\n",
            " 4392.23723724 4394.46646647 4396.6956957  4398.92492492 4401.15415415\n",
            " 4403.38338338 4405.61261261 4407.84184184 4410.07107107 4412.3003003\n",
            " 4414.52952953 4416.75875876 4418.98798799 4421.21721722 4423.44644645\n",
            " 4425.67567568 4427.9049049  4430.13413413 4432.36336336 4434.59259259\n",
            " 4436.82182182 4439.05105105 4441.28028028 4443.50950951 4445.73873874\n",
            " 4447.96796797 4450.1971972  4452.42642643 4454.65565566 4456.88488488\n",
            " 4459.11411411 4461.34334334 4463.57257257 4465.8018018  4468.03103103\n",
            " 4470.26026026 4472.48948949 4474.71871872 4476.94794795 4479.17717718\n",
            " 4481.40640641 4483.63563564 4485.86486486 4488.09409409 4490.32332332\n",
            " 4492.55255255 4494.78178178 4497.01101101 4499.24024024 4501.46946947\n",
            " 4503.6986987  4505.92792793 4508.15715716 4510.38638639 4512.61561562\n",
            " 4514.84484484 4517.07407407 4519.3033033  4521.53253253 4523.76176176\n",
            " 4525.99099099 4528.22022022 4530.44944945 4532.67867868 4534.90790791\n",
            " 4537.13713714 4539.36636637 4541.5955956  4543.82482482 4546.05405405\n",
            " 4548.28328328 4550.51251251 4552.74174174 4554.97097097 4557.2002002\n",
            " 4559.42942943 4561.65865866 4563.88788789 4566.11711712 4568.34634635\n",
            " 4570.57557558 4572.8048048  4575.03403403 4577.26326326 4579.49249249\n",
            " 4581.72172172 4583.95095095 4586.18018018 4588.40940941 4590.63863864\n",
            " 4592.86786787 4595.0970971  4597.32632633 4599.55555556 4601.78478478\n",
            " 4604.01401401 4606.24324324 4608.47247247 4610.7017017  4612.93093093\n",
            " 4615.16016016 4617.38938939 4619.61861862 4621.84784785 4624.07707708\n",
            " 4626.30630631 4628.53553554 4630.76476476 4632.99399399 4635.22322322\n",
            " 4637.45245245 4639.68168168 4641.91091091 4644.14014014 4646.36936937\n",
            " 4648.5985986  4650.82782783 4653.05705706 4655.28628629 4657.51551552\n",
            " 4659.74474474 4661.97397397 4664.2032032  4666.43243243 4668.66166166\n",
            " 4670.89089089 4673.12012012 4675.34934935 4677.57857858 4679.80780781\n",
            " 4682.03703704 4684.26626627 4686.4954955  4688.72472472 4690.95395395\n",
            " 4693.18318318 4695.41241241 4697.64164164 4699.87087087 4702.1001001\n",
            " 4704.32932933 4706.55855856 4708.78778779 4711.01701702 4713.24624625\n",
            " 4715.47547548 4717.7047047  4719.93393393 4722.16316316 4724.39239239\n",
            " 4726.62162162 4728.85085085 4731.08008008 4733.30930931 4735.53853854\n",
            " 4737.76776777 4739.996997   4742.22622623 4744.45545546 4746.68468468\n",
            " 4748.91391391 4751.14314314 4753.37237237 4755.6016016  4757.83083083\n",
            " 4760.06006006 4762.28928929 4764.51851852 4766.74774775 4768.97697698\n",
            " 4771.20620621 4773.43543544 4775.66466466 4777.89389389 4780.12312312\n",
            " 4782.35235235 4784.58158158 4786.81081081 4789.04004004 4791.26926927\n",
            " 4793.4984985  4795.72772773 4797.95695696 4800.18618619 4802.41541542\n",
            " 4804.64464464 4806.87387387 4809.1031031  4811.33233233 4813.56156156\n",
            " 4815.79079079 4818.02002002 4820.24924925 4822.47847848 4824.70770771\n",
            " 4826.93693694 4829.16616617 4831.3953954  4833.62462462 4835.85385385\n",
            " 4838.08308308 4840.31231231 4842.54154154 4844.77077077 4847.        ]\n"
          ]
        }
      ]
    },
    {
      "cell_type": "code",
      "source": [
        "Y = m*x+c\n",
        "print(Y)"
      ],
      "metadata": {
        "colab": {
          "base_uri": "https://localhost:8080/"
        },
        "id": "18Pco4wIKpou",
        "outputId": "08e58b49-c763-4306-99cd-ade7ffe42a4f"
      },
      "execution_count": 45,
      "outputs": [
        {
          "output_type": "stream",
          "name": "stdout",
          "text": [
            "[1015.75829051 1016.3455349  1016.93277928 1017.52002366 1018.10726805\n",
            " 1018.69451243 1019.28175681 1019.8690012  1020.45624558 1021.04348996\n",
            " 1021.63073435 1022.21797873 1022.80522311 1023.3924675  1023.97971188\n",
            " 1024.56695626 1025.15420065 1025.74144503 1026.32868941 1026.9159338\n",
            " 1027.50317818 1028.09042256 1028.67766695 1029.26491133 1029.85215571\n",
            " 1030.4394001  1031.02664448 1031.61388886 1032.20113325 1032.78837763\n",
            " 1033.37562201 1033.9628664  1034.55011078 1035.13735516 1035.72459955\n",
            " 1036.31184393 1036.89908832 1037.4863327  1038.07357708 1038.66082147\n",
            " 1039.24806585 1039.83531023 1040.42255462 1041.009799   1041.59704338\n",
            " 1042.18428777 1042.77153215 1043.35877653 1043.94602092 1044.5332653\n",
            " 1045.12050968 1045.70775407 1046.29499845 1046.88224283 1047.46948722\n",
            " 1048.0567316  1048.64397598 1049.23122037 1049.81846475 1050.40570913\n",
            " 1050.99295352 1051.5801979  1052.16744228 1052.75468667 1053.34193105\n",
            " 1053.92917543 1054.51641982 1055.1036642  1055.69090858 1056.27815297\n",
            " 1056.86539735 1057.45264173 1058.03988612 1058.6271305  1059.21437489\n",
            " 1059.80161927 1060.38886365 1060.97610804 1061.56335242 1062.1505968\n",
            " 1062.73784119 1063.32508557 1063.91232995 1064.49957434 1065.08681872\n",
            " 1065.6740631  1066.26130749 1066.84855187 1067.43579625 1068.02304064\n",
            " 1068.61028502 1069.1975294  1069.78477379 1070.37201817 1070.95926255\n",
            " 1071.54650694 1072.13375132 1072.7209957  1073.30824009 1073.89548447\n",
            " 1074.48272885 1075.06997324 1075.65721762 1076.244462   1076.83170639\n",
            " 1077.41895077 1078.00619515 1078.59343954 1079.18068392 1079.76792831\n",
            " 1080.35517269 1080.94241707 1081.52966146 1082.11690584 1082.70415022\n",
            " 1083.29139461 1083.87863899 1084.46588337 1085.05312776 1085.64037214\n",
            " 1086.22761652 1086.81486091 1087.40210529 1087.98934967 1088.57659406\n",
            " 1089.16383844 1089.75108282 1090.33832721 1090.92557159 1091.51281597\n",
            " 1092.10006036 1092.68730474 1093.27454912 1093.86179351 1094.44903789\n",
            " 1095.03628227 1095.62352666 1096.21077104 1096.79801542 1097.38525981\n",
            " 1097.97250419 1098.55974857 1099.14699296 1099.73423734 1100.32148173\n",
            " 1100.90872611 1101.49597049 1102.08321488 1102.67045926 1103.25770364\n",
            " 1103.84494803 1104.43219241 1105.01943679 1105.60668118 1106.19392556\n",
            " 1106.78116994 1107.36841433 1107.95565871 1108.54290309 1109.13014748\n",
            " 1109.71739186 1110.30463624 1110.89188063 1111.47912501 1112.06636939\n",
            " 1112.65361378 1113.24085816 1113.82810254 1114.41534693 1115.00259131\n",
            " 1115.58983569 1116.17708008 1116.76432446 1117.35156884 1117.93881323\n",
            " 1118.52605761 1119.11330199 1119.70054638 1120.28779076 1120.87503514\n",
            " 1121.46227953 1122.04952391 1122.6367683  1123.22401268 1123.81125706\n",
            " 1124.39850145 1124.98574583 1125.57299021 1126.1602346  1126.74747898\n",
            " 1127.33472336 1127.92196775 1128.50921213 1129.09645651 1129.6837009\n",
            " 1130.27094528 1130.85818966 1131.44543405 1132.03267843 1132.61992281\n",
            " 1133.2071672  1133.79441158 1134.38165596 1134.96890035 1135.55614473\n",
            " 1136.14338911 1136.7306335  1137.31787788 1137.90512226 1138.49236665\n",
            " 1139.07961103 1139.66685541 1140.2540998  1140.84134418 1141.42858856\n",
            " 1142.01583295 1142.60307733 1143.19032172 1143.7775661  1144.36481048\n",
            " 1144.95205487 1145.53929925 1146.12654363 1146.71378802 1147.3010324\n",
            " 1147.88827678 1148.47552117 1149.06276555 1149.65000993 1150.23725432\n",
            " 1150.8244987  1151.41174308 1151.99898747 1152.58623185 1153.17347623\n",
            " 1153.76072062 1154.347965   1154.93520938 1155.52245377 1156.10969815\n",
            " 1156.69694253 1157.28418692 1157.8714313  1158.45867568 1159.04592007\n",
            " 1159.63316445 1160.22040883 1160.80765322 1161.3948976  1161.98214198\n",
            " 1162.56938637 1163.15663075 1163.74387514 1164.33111952 1164.9183639\n",
            " 1165.50560829 1166.09285267 1166.68009705 1167.26734144 1167.85458582\n",
            " 1168.4418302  1169.02907459 1169.61631897 1170.20356335 1170.79080774\n",
            " 1171.37805212 1171.9652965  1172.55254089 1173.13978527 1173.72702965\n",
            " 1174.31427404 1174.90151842 1175.4887628  1176.07600719 1176.66325157\n",
            " 1177.25049595 1177.83774034 1178.42498472 1179.0122291  1179.59947349\n",
            " 1180.18671787 1180.77396225 1181.36120664 1181.94845102 1182.5356954\n",
            " 1183.12293979 1183.71018417 1184.29742856 1184.88467294 1185.47191732\n",
            " 1186.05916171 1186.64640609 1187.23365047 1187.82089486 1188.40813924\n",
            " 1188.99538362 1189.58262801 1190.16987239 1190.75711677 1191.34436116\n",
            " 1191.93160554 1192.51884992 1193.10609431 1193.69333869 1194.28058307\n",
            " 1194.86782746 1195.45507184 1196.04231622 1196.62956061 1197.21680499\n",
            " 1197.80404937 1198.39129376 1198.97853814 1199.56578252 1200.15302691\n",
            " 1200.74027129 1201.32751567 1201.91476006 1202.50200444 1203.08924882\n",
            " 1203.67649321 1204.26373759 1204.85098197 1205.43822636 1206.02547074\n",
            " 1206.61271513 1207.19995951 1207.78720389 1208.37444828 1208.96169266\n",
            " 1209.54893704 1210.13618143 1210.72342581 1211.31067019 1211.89791458\n",
            " 1212.48515896 1213.07240334 1213.65964773 1214.24689211 1214.83413649\n",
            " 1215.42138088 1216.00862526 1216.59586964 1217.18311403 1217.77035841\n",
            " 1218.35760279 1218.94484718 1219.53209156 1220.11933594 1220.70658033\n",
            " 1221.29382471 1221.88106909 1222.46831348 1223.05555786 1223.64280224\n",
            " 1224.23004663 1224.81729101 1225.40453539 1225.99177978 1226.57902416\n",
            " 1227.16626855 1227.75351293 1228.34075731 1228.9280017  1229.51524608\n",
            " 1230.10249046 1230.68973485 1231.27697923 1231.86422361 1232.451468\n",
            " 1233.03871238 1233.62595676 1234.21320115 1234.80044553 1235.38768991\n",
            " 1235.9749343  1236.56217868 1237.14942306 1237.73666745 1238.32391183\n",
            " 1238.91115621 1239.4984006  1240.08564498 1240.67288936 1241.26013375\n",
            " 1241.84737813 1242.43462251 1243.0218669  1243.60911128 1244.19635566\n",
            " 1244.78360005 1245.37084443 1245.95808881 1246.5453332  1247.13257758\n",
            " 1247.71982197 1248.30706635 1248.89431073 1249.48155512 1250.0687995\n",
            " 1250.65604388 1251.24328827 1251.83053265 1252.41777703 1253.00502142\n",
            " 1253.5922658  1254.17951018 1254.76675457 1255.35399895 1255.94124333\n",
            " 1256.52848772 1257.1157321  1257.70297648 1258.29022087 1258.87746525\n",
            " 1259.46470963 1260.05195402 1260.6391984  1261.22644278 1261.81368717\n",
            " 1262.40093155 1262.98817593 1263.57542032 1264.1626647  1264.74990908\n",
            " 1265.33715347 1265.92439785 1266.51164223 1267.09888662 1267.686131\n",
            " 1268.27337538 1268.86061977 1269.44786415 1270.03510854 1270.62235292\n",
            " 1271.2095973  1271.79684169 1272.38408607 1272.97133045 1273.55857484\n",
            " 1274.14581922 1274.7330636  1275.32030799 1275.90755237 1276.49479675\n",
            " 1277.08204114 1277.66928552 1278.2565299  1278.84377429 1279.43101867\n",
            " 1280.01826305 1280.60550744 1281.19275182 1281.7799962  1282.36724059\n",
            " 1282.95448497 1283.54172935 1284.12897374 1284.71621812 1285.3034625\n",
            " 1285.89070689 1286.47795127 1287.06519565 1287.65244004 1288.23968442\n",
            " 1288.8269288  1289.41417319 1290.00141757 1290.58866196 1291.17590634\n",
            " 1291.76315072 1292.35039511 1292.93763949 1293.52488387 1294.11212826\n",
            " 1294.69937264 1295.28661702 1295.87386141 1296.46110579 1297.04835017\n",
            " 1297.63559456 1298.22283894 1298.81008332 1299.39732771 1299.98457209\n",
            " 1300.57181647 1301.15906086 1301.74630524 1302.33354962 1302.92079401\n",
            " 1303.50803839 1304.09528277 1304.68252716 1305.26977154 1305.85701592\n",
            " 1306.44426031 1307.03150469 1307.61874907 1308.20599346 1308.79323784\n",
            " 1309.38048222 1309.96772661 1310.55497099 1311.14221538 1311.72945976\n",
            " 1312.31670414 1312.90394853 1313.49119291 1314.07843729 1314.66568168\n",
            " 1315.25292606 1315.84017044 1316.42741483 1317.01465921 1317.60190359\n",
            " 1318.18914798 1318.77639236 1319.36363674 1319.95088113 1320.53812551\n",
            " 1321.12536989 1321.71261428 1322.29985866 1322.88710304 1323.47434743\n",
            " 1324.06159181 1324.64883619 1325.23608058 1325.82332496 1326.41056934\n",
            " 1326.99781373 1327.58505811 1328.17230249 1328.75954688 1329.34679126\n",
            " 1329.93403564 1330.52128003 1331.10852441 1331.6957688  1332.28301318\n",
            " 1332.87025756 1333.45750195 1334.04474633 1334.63199071 1335.2192351\n",
            " 1335.80647948 1336.39372386 1336.98096825 1337.56821263 1338.15545701\n",
            " 1338.7427014  1339.32994578 1339.91719016 1340.50443455 1341.09167893\n",
            " 1341.67892331 1342.2661677  1342.85341208 1343.44065646 1344.02790085\n",
            " 1344.61514523 1345.20238961 1345.789634   1346.37687838 1346.96412276\n",
            " 1347.55136715 1348.13861153 1348.72585591 1349.3131003  1349.90034468\n",
            " 1350.48758906 1351.07483345 1351.66207783 1352.24932221 1352.8365666\n",
            " 1353.42381098 1354.01105537 1354.59829975 1355.18554413 1355.77278852\n",
            " 1356.3600329  1356.94727728 1357.53452167 1358.12176605 1358.70901043\n",
            " 1359.29625482 1359.8834992  1360.47074358 1361.05798797 1361.64523235\n",
            " 1362.23247673 1362.81972112 1363.4069655  1363.99420988 1364.58145427\n",
            " 1365.16869865 1365.75594303 1366.34318742 1366.9304318  1367.51767618\n",
            " 1368.10492057 1368.69216495 1369.27940933 1369.86665372 1370.4538981\n",
            " 1371.04114248 1371.62838687 1372.21563125 1372.80287563 1373.39012002\n",
            " 1373.9773644  1374.56460879 1375.15185317 1375.73909755 1376.32634194\n",
            " 1376.91358632 1377.5008307  1378.08807509 1378.67531947 1379.26256385\n",
            " 1379.84980824 1380.43705262 1381.024297   1381.61154139 1382.19878577\n",
            " 1382.78603015 1383.37327454 1383.96051892 1384.5477633  1385.13500769\n",
            " 1385.72225207 1386.30949645 1386.89674084 1387.48398522 1388.0712296\n",
            " 1388.65847399 1389.24571837 1389.83296275 1390.42020714 1391.00745152\n",
            " 1391.5946959  1392.18194029 1392.76918467 1393.35642905 1393.94367344\n",
            " 1394.53091782 1395.11816221 1395.70540659 1396.29265097 1396.87989536\n",
            " 1397.46713974 1398.05438412 1398.64162851 1399.22887289 1399.81611727\n",
            " 1400.40336166 1400.99060604 1401.57785042 1402.16509481 1402.75233919\n",
            " 1403.33958357 1403.92682796 1404.51407234 1405.10131672 1405.68856111\n",
            " 1406.27580549 1406.86304987 1407.45029426 1408.03753864 1408.62478302\n",
            " 1409.21202741 1409.79927179 1410.38651617 1410.97376056 1411.56100494\n",
            " 1412.14824932 1412.73549371 1413.32273809 1413.90998247 1414.49722686\n",
            " 1415.08447124 1415.67171562 1416.25896001 1416.84620439 1417.43344878\n",
            " 1418.02069316 1418.60793754 1419.19518193 1419.78242631 1420.36967069\n",
            " 1420.95691508 1421.54415946 1422.13140384 1422.71864823 1423.30589261\n",
            " 1423.89313699 1424.48038138 1425.06762576 1425.65487014 1426.24211453\n",
            " 1426.82935891 1427.41660329 1428.00384768 1428.59109206 1429.17833644\n",
            " 1429.76558083 1430.35282521 1430.94006959 1431.52731398 1432.11455836\n",
            " 1432.70180274 1433.28904713 1433.87629151 1434.46353589 1435.05078028\n",
            " 1435.63802466 1436.22526904 1436.81251343 1437.39975781 1437.9870022\n",
            " 1438.57424658 1439.16149096 1439.74873535 1440.33597973 1440.92322411\n",
            " 1441.5104685  1442.09771288 1442.68495726 1443.27220165 1443.85944603\n",
            " 1444.44669041 1445.0339348  1445.62117918 1446.20842356 1446.79566795\n",
            " 1447.38291233 1447.97015671 1448.5574011  1449.14464548 1449.73188986\n",
            " 1450.31913425 1450.90637863 1451.49362301 1452.0808674  1452.66811178\n",
            " 1453.25535616 1453.84260055 1454.42984493 1455.01708931 1455.6043337\n",
            " 1456.19157808 1456.77882246 1457.36606685 1457.95331123 1458.54055562\n",
            " 1459.1278     1459.71504438 1460.30228877 1460.88953315 1461.47677753\n",
            " 1462.06402192 1462.6512663  1463.23851068 1463.82575507 1464.41299945\n",
            " 1465.00024383 1465.58748822 1466.1747326  1466.76197698 1467.34922137\n",
            " 1467.93646575 1468.52371013 1469.11095452 1469.6981989  1470.28544328\n",
            " 1470.87268767 1471.45993205 1472.04717643 1472.63442082 1473.2216652\n",
            " 1473.80890958 1474.39615397 1474.98339835 1475.57064273 1476.15788712\n",
            " 1476.7451315  1477.33237588 1477.91962027 1478.50686465 1479.09410904\n",
            " 1479.68135342 1480.2685978  1480.85584219 1481.44308657 1482.03033095\n",
            " 1482.61757534 1483.20481972 1483.7920641  1484.37930849 1484.96655287\n",
            " 1485.55379725 1486.14104164 1486.72828602 1487.3155304  1487.90277479\n",
            " 1488.49001917 1489.07726355 1489.66450794 1490.25175232 1490.8389967\n",
            " 1491.42624109 1492.01348547 1492.60072985 1493.18797424 1493.77521862\n",
            " 1494.362463   1494.94970739 1495.53695177 1496.12419615 1496.71144054\n",
            " 1497.29868492 1497.8859293  1498.47317369 1499.06041807 1499.64766245\n",
            " 1500.23490684 1500.82215122 1501.40939561 1501.99663999 1502.58388437\n",
            " 1503.17112876 1503.75837314 1504.34561752 1504.93286191 1505.52010629\n",
            " 1506.10735067 1506.69459506 1507.28183944 1507.86908382 1508.45632821\n",
            " 1509.04357259 1509.63081697 1510.21806136 1510.80530574 1511.39255012\n",
            " 1511.97979451 1512.56703889 1513.15428327 1513.74152766 1514.32877204\n",
            " 1514.91601642 1515.50326081 1516.09050519 1516.67774957 1517.26499396\n",
            " 1517.85223834 1518.43948272 1519.02672711 1519.61397149 1520.20121587\n",
            " 1520.78846026 1521.37570464 1521.96294903 1522.55019341 1523.13743779\n",
            " 1523.72468218 1524.31192656 1524.89917094 1525.48641533 1526.07365971\n",
            " 1526.66090409 1527.24814848 1527.83539286 1528.42263724 1529.00988163\n",
            " 1529.59712601 1530.18437039 1530.77161478 1531.35885916 1531.94610354\n",
            " 1532.53334793 1533.12059231 1533.70783669 1534.29508108 1534.88232546\n",
            " 1535.46956984 1536.05681423 1536.64405861 1537.23130299 1537.81854738\n",
            " 1538.40579176 1538.99303614 1539.58028053 1540.16752491 1540.75476929\n",
            " 1541.34201368 1541.92925806 1542.51650245 1543.10374683 1543.69099121\n",
            " 1544.2782356  1544.86547998 1545.45272436 1546.03996875 1546.62721313\n",
            " 1547.21445751 1547.8017019  1548.38894628 1548.97619066 1549.56343505\n",
            " 1550.15067943 1550.73792381 1551.3251682  1551.91241258 1552.49965696\n",
            " 1553.08690135 1553.67414573 1554.26139011 1554.8486345  1555.43587888\n",
            " 1556.02312326 1556.61036765 1557.19761203 1557.78485641 1558.3721008\n",
            " 1558.95934518 1559.54658956 1560.13383395 1560.72107833 1561.30832271\n",
            " 1561.8955671  1562.48281148 1563.07005586 1563.65730025 1564.24454463\n",
            " 1564.83178902 1565.4190334  1566.00627778 1566.59352217 1567.18076655\n",
            " 1567.76801093 1568.35525532 1568.9424997  1569.52974408 1570.11698847\n",
            " 1570.70423285 1571.29147723 1571.87872162 1572.465966   1573.05321038\n",
            " 1573.64045477 1574.22769915 1574.81494353 1575.40218792 1575.9894323\n",
            " 1576.57667668 1577.16392107 1577.75116545 1578.33840983 1578.92565422\n",
            " 1579.5128986  1580.10014298 1580.68738737 1581.27463175 1581.86187613\n",
            " 1582.44912052 1583.0363649  1583.62360928 1584.21085367 1584.79809805\n",
            " 1585.38534244 1585.97258682 1586.5598312  1587.14707559 1587.73431997\n",
            " 1588.32156435 1588.90880874 1589.49605312 1590.0832975  1590.67054189\n",
            " 1591.25778627 1591.84503065 1592.43227504 1593.01951942 1593.6067638\n",
            " 1594.19400819 1594.78125257 1595.36849695 1595.95574134 1596.54298572\n",
            " 1597.1302301  1597.71747449 1598.30471887 1598.89196325 1599.47920764\n",
            " 1600.06645202 1600.6536964  1601.24094079 1601.82818517 1602.41542955]\n"
          ]
        }
      ]
    },
    {
      "cell_type": "code",
      "source": [
        "# Visulaization of Straight Line \n",
        "plt.scatter(X,y, color='g')\n",
        "plt.plot(x,Y, color='r')\n",
        "plt.title(\"Simple Linear Regression\")\n",
        "plt.xlabel(\"Head Size\")\n",
        "plt.ylabel(\"Brain Weight\")\n",
        "plt.show()"
      ],
      "metadata": {
        "colab": {
          "base_uri": "https://localhost:8080/",
          "height": 295
        },
        "id": "HQxbzZFiKxAW",
        "outputId": "97335829-e67f-4663-b4e5-90e427615e40"
      },
      "execution_count": 42,
      "outputs": [
        {
          "output_type": "display_data",
          "data": {
            "text/plain": [
              "<Figure size 432x288 with 1 Axes>"
            ],
            "image/png": "[encoded data removed]"
          },
          "metadata": {
            "needs_background": "light"
          }
        }
      ]
    },
    {
      "cell_type": "code",
      "source": [
        "# Accuracy (r^2)\n",
        "sum_pred= 0\n",
        "sum_act = 0\n",
        "\n",
        "for i in range(n):\n",
        "  y_pred = (m*X[i]+c)\n",
        "  sum_pred += (y[i]-y_pred)**2\n",
        "  sum_act += (y[i]-meany)**2\n",
        "\n",
        "r2 = 1-(sum_pred/sum_act)\n",
        "print(r2)"
      ],
      "metadata": {
        "colab": {
          "base_uri": "https://localhost:8080/"
        },
        "id": "k1kIJzijLTLm",
        "outputId": "1eef5b2e-24d0-4ef6-c3d7-01262bdd4964"
      },
      "execution_count": 46,
      "outputs": [
        {
          "output_type": "stream",
          "name": "stdout",
          "text": [
            "0.6393117199570003\n"
          ]
        }
      ]
    },
    {
      "cell_type": "code",
      "source": [
        "\n",
        "# prediction\n",
        "def predict(num):\n",
        "  Y = m*num+c\n",
        "  print(Y)"
      ],
      "metadata": {
        "id": "QSC73HFQMoju"
      },
      "execution_count": 47,
      "outputs": []
    },
    {
      "cell_type": "code",
      "source": [
        "predict(4277)"
      ],
      "metadata": {
        "colab": {
          "base_uri": "https://localhost:8080/"
        },
        "id": "8kiDI_A6N8T9",
        "outputId": "8ff831bb-f425-4d79-fe23-b665cf2d8206"
      },
      "execution_count": 48,
      "outputs": [
        {
          "output_type": "stream",
          "name": "stdout",
          "text": [
            "1452.2607060456037\n"
          ]
        }
      ]
    },
    {
      "cell_type": "code",
      "source": [
        "predict(3391)"
      ],
      "metadata": {
        "colab": {
          "base_uri": "https://localhost:8080/"
        },
        "id": "LYNoroQGOB9B",
        "outputId": "5251cf36-c1f1-4075-d43d-42a6e4be38b2"
      },
      "execution_count": 49,
      "outputs": [
        {
          "output_type": "stream",
          "name": "stdout",
          "text": [
            "1218.8623112579958\n"
          ]
        }
      ]
    },
    {
      "cell_type": "code",
      "source": [],
      "metadata": {
        "id": "JSuH4pkBOLsc"
      },
      "execution_count": null,
      "outputs": []
    }
  ]
}